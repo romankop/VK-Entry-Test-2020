{
 "cells": [
  {
   "cell_type": "code",
   "execution_count": 236,
   "metadata": {},
   "outputs": [],
   "source": [
    "import pandas as pd\n",
    "import numpy as np\n",
    "import json\n",
    "from urllib.parse import unquote_plus\n",
    "import re\n",
    "import warnings\n",
    "from sklearn.preprocessing import normalize\n",
    "warnings.filterwarnings(\"ignore\")\n",
    "\n",
    "from scipy.sparse import csr_matrix\n",
    "import implicit\n",
    "import lightfm\n",
    "\n",
    "np.random.seed(42)"
   ]
  },
  {
   "cell_type": "markdown",
   "metadata": {},
   "source": [
    "## Обработка данных"
   ]
  },
  {
   "cell_type": "markdown",
   "metadata": {},
   "source": [
    "Загрузим датасеты с исполнителями, пользователями, треками и сессиями прослушиваний. Я выберу 500 пользователей для удобства выполнения операций."
   ]
  },
  {
   "cell_type": "code",
   "execution_count": 2,
   "metadata": {
    "scrolled": true
   },
   "outputs": [
    {
     "name": "stdout",
     "output_type": "stream",
     "text": [
      "Wall time: 40.9 s\n"
     ]
    }
   ],
   "source": [
    "%%time\n",
    "cols = ['type', 'ID', 'Time', 'Properties', 'Linked']\n",
    "\n",
    "#entities\n",
    "# albums = pd.read_csv('albums.idomaar', sep='\\t', header=None)\n",
    "persons = pd.read_csv('persons.idomaar', sep='\\t', header=None)\n",
    "# playlists = pd.read_csv('playlist.idomaar', sep='\\t', header=None)\n",
    "# tags = pd.read_csv('tags.idomaar', sep='\\t', header=None)\n",
    "tracks = pd.read_csv('tracks.idomaar', sep='\\t', header=None)\n",
    "users = pd.read_csv('users.idomaar', sep='\\t', header=None)\n",
    "\n",
    "#relations\n",
    "\n",
    "# events = pd.read_csv('events.idomaar', sep='\\t', header=None)\n",
    "# love = pd.read_csv('love.idomaar', sep='\\t', header=None)\n",
    "sessions = pd.read_csv('sessions.idomaar', sep='\\t', header=None)"
   ]
  },
  {
   "cell_type": "code",
   "execution_count": 3,
   "metadata": {},
   "outputs": [],
   "source": [
    "users = users.iloc[np.random.randint(0, users.shape[0], 500), :]\n",
    "\n",
    "entities = {'persons': persons, 'tracks': tracks, 'users': users}\n",
    "relations = {'sessions': sessions}"
   ]
  },
  {
   "cell_type": "markdown",
   "metadata": {},
   "source": [
    "Теперь избавимся от дубликатов в таблицах."
   ]
  },
  {
   "cell_type": "code",
   "execution_count": 4,
   "metadata": {},
   "outputs": [
    {
     "name": "stdout",
     "output_type": "stream",
     "text": [
      "Wall time: 16.2 s\n"
     ]
    }
   ],
   "source": [
    "%%time\n",
    "\n",
    "for entity in entities.values():\n",
    "    entity.columns = cols[:entity.shape[1]]\n",
    "    entity.drop_duplicates('ID', inplace=True)\n",
    "    \n",
    "for relation in relations.values():\n",
    "    relation.columns = cols[:relation.shape[1]]\n",
    "    relation.drop_duplicates('ID', inplace=True)"
   ]
  },
  {
   "cell_type": "markdown",
   "metadata": {},
   "source": [
    "Воспользуемся свойствами наблюдений и вытащим из них фичи."
   ]
  },
  {
   "cell_type": "code",
   "execution_count": 5,
   "metadata": {},
   "outputs": [
    {
     "name": "stdout",
     "output_type": "stream",
     "text": [
      "Wall time: 10.2 s\n"
     ]
    }
   ],
   "source": [
    "%%time\n",
    "sessions['users'] = sessions.iloc[:,3].str.findall('\"type\":\"user\",\"id\":(\\d*)').str.get(0).astype('int64')\n",
    "sessions = sessions[sessions.users.isin(users.ID)]"
   ]
  },
  {
   "cell_type": "code",
   "execution_count": 6,
   "metadata": {},
   "outputs": [
    {
     "name": "stdout",
     "output_type": "stream",
     "text": [
      "Wall time: 9.01 s\n"
     ]
    }
   ],
   "source": [
    "%%time\n",
    "tracks['person'] = tracks.Linked.str.findall('\"id\":(\\d*)').str.get(0).astype('int64')"
   ]
  },
  {
   "cell_type": "code",
   "execution_count": 7,
   "metadata": {},
   "outputs": [
    {
     "name": "stdout",
     "output_type": "stream",
     "text": [
      "Wall time: 1.43 s\n"
     ]
    }
   ],
   "source": [
    "%%time\n",
    "sessions['tracks'] = sessions.loc[:,'Properties'].str.findall('\"type\":\"track\",\"id\":(\\d*)')\n",
    "sessions['ratio'] = sessions.loc[:,'Properties'].str.findall('\"playratio\":(.*?),')\n",
    "sessions['numtracks'] = sessions.loc[:,'Properties'].str.findall('\"numtracks\":(.*?),').str.get(0).astype('int')"
   ]
  },
  {
   "cell_type": "markdown",
   "metadata": {},
   "source": [
    "Теперь составим таблицу, в которой будет информация о каждом прослушанном пользователем треке."
   ]
  },
  {
   "cell_type": "code",
   "execution_count": 8,
   "metadata": {
    "scrolled": true
   },
   "outputs": [
    {
     "name": "stdout",
     "output_type": "stream",
     "text": [
      "Wall time: 1h 19min 11s\n"
     ]
    }
   ],
   "source": [
    "%%time\n",
    "\n",
    "table = pd.DataFrame(columns=['user', 'track', 'ratio'])\n",
    "\n",
    "for row in sessions.itertuples():\n",
    "    for i in range(row[-1]):\n",
    "        if row[-2][i] != 'null':\n",
    "            table.loc[table.shape[0]] = [row[-4], int(row[-3][i]), float(row[-2][i])]\n",
    "\n",
    "table.track = table.track.astype('int')\n",
    "table.user = table.user.astype('int')"
   ]
  },
  {
   "cell_type": "markdown",
   "metadata": {},
   "source": [
    "Укажем, какой исполнитель соответствует каждому треку."
   ]
  },
  {
   "cell_type": "code",
   "execution_count": 9,
   "metadata": {},
   "outputs": [
    {
     "name": "stdout",
     "output_type": "stream",
     "text": [
      "Wall time: 4.51 s\n"
     ]
    }
   ],
   "source": [
    "%%time\n",
    "table_merged = table.merge(tracks[['ID', 'Properties', 'person']], left_on='track', right_on='ID')"
   ]
  },
  {
   "cell_type": "markdown",
   "metadata": {},
   "source": [
    "Теперь построим рекомендательную матрицу \"исполнитель-пользователь\", где в качестве значений будет сумма долей прослушанных треков во всех сессиях прослушивания."
   ]
  },
  {
   "cell_type": "code",
   "execution_count": 91,
   "metadata": {},
   "outputs": [
    {
     "name": "stdout",
     "output_type": "stream",
     "text": [
      "Wall time: 1.08 s\n"
     ]
    }
   ],
   "source": [
    "%%time\n",
    "grouped_table = pd.pivot_table(table_merged, index='person', columns='user', values='ratio', fill_value=0, aggfunc=sum)"
   ]
  },
  {
   "cell_type": "code",
   "execution_count": 93,
   "metadata": {},
   "outputs": [
    {
     "name": "stdout",
     "output_type": "stream",
     "text": [
      "Wall time: 217 ms\n"
     ]
    }
   ],
   "source": [
    "%%time\n",
    "rec_matrix = csr_matrix(grouped_table)\n",
    "\n",
    "rec_matrix = rec_matrix[:, rec_matrix.getnnz(0) > 0]"
   ]
  },
  {
   "cell_type": "markdown",
   "metadata": {},
   "source": [
    "## Case Recommender"
   ]
  },
  {
   "cell_type": "markdown",
   "metadata": {},
   "source": [
    "Для анализа рекомендательной системы сначала обратимся к библиотеке Case Recommender, где реализованы бейзлайновые модели."
   ]
  },
  {
   "cell_type": "code",
   "execution_count": 280,
   "metadata": {},
   "outputs": [],
   "source": [
    "import caserec.recommenders.item_recommendation as rec_models"
   ]
  },
  {
   "cell_type": "markdown",
   "metadata": {},
   "source": [
    "В качестве методов выберем метод Ближайших соседей, модель выбора самых популярных предметов и сокластерный алгоритм PaCo."
   ]
  },
  {
   "cell_type": "code",
   "execution_count": 360,
   "metadata": {},
   "outputs": [],
   "source": [
    "from caserec.recommenders.item_recommendation.itemknn import ItemKNN\n",
    "from caserec.recommenders.item_recommendation.most_popular import MostPopular\n",
    "from caserec.recommenders.item_recommendation.paco_recommender import PaCoRecommender"
   ]
  },
  {
   "cell_type": "markdown",
   "metadata": {},
   "source": [
    "Подготавливаем данные, валидируя их. Сразу оговорюсь, что я разбиваю данные на Train / Validation / Test. При этом для Test тренирую модель на Train + Validation, чтобы оценить влияние увеличения данных."
   ]
  },
  {
   "cell_type": "code",
   "execution_count": 312,
   "metadata": {},
   "outputs": [],
   "source": [
    "rec_data = table_merged.groupby(by=['user', 'person']).sum()[['ratio']].reset_index()"
   ]
  },
  {
   "cell_type": "code",
   "execution_count": 365,
   "metadata": {},
   "outputs": [],
   "source": [
    "notest_data = rec_data.sample(frac=0.6, random_state=42)\n",
    "test_data = rec_data[~rec_data.index.isin(notest_data.index)]\n",
    "\n",
    "train_data = notest_data.sample(frac=0.6, random_state=42)\n",
    "val_data = notest_data[~notest_data.index.isin(train_data.index)]\n",
    "\n",
    "train_data.to_csv('train_data.csv', index=False, header=False, sep='\\t')\n",
    "val_data.to_csv('val_data.csv', index=False, header=False, sep='\\t')\n",
    "\n",
    "notest_data.to_csv('notest_data.csv', index=False, header=False, sep='\\t')\n",
    "test_data.to_csv('test_data.csv', index=False, header=False, sep='\\t')"
   ]
  },
  {
   "cell_type": "markdown",
   "metadata": {},
   "source": [
    "Теперь тренируем модели и смотрим на их результаты. В качестве метрик выбраны Precision, Recall, Mean Average Precision и Normalized Discounted Cumulative Gain."
   ]
  },
  {
   "cell_type": "code",
   "execution_count": 359,
   "metadata": {},
   "outputs": [],
   "source": [
    "models_case = {'itemknn': ItemKNN(train_file='train_data.csv', test_file='val_data.csv'),\n",
    "              'pop': MostPopular(train_file='train_data.csv', test_file='val_data.csv'),\n",
    "              'paco': PaCoRecommender(train_file='train_data.csv', test_file='val_data.csv')}"
   ]
  },
  {
   "cell_type": "code",
   "execution_count": 363,
   "metadata": {
    "scrolled": false
   },
   "outputs": [
    {
     "name": "stdout",
     "output_type": "stream",
     "text": [
      "[Case Recommender: Item Recommendation > ItemKNN Algorithm]\n",
      "\n",
      "train data:: 489 users and 13034 items (23383 interactions) | sparsity:: 99.63%\n",
      "test data:: 481 users and 9680 items (15589 interactions) | sparsity:: 99.67%\n",
      "\n",
      "training_time:: 256.445352 sec\n",
      "prediction_time:: 172.156993 sec\n",
      "\n",
      "\n",
      "Eval:: PREC@1: 0.014553 PREC@3: 0.011781 PREC@5: 0.010395 PREC@10: 0.006861 RECALL@1: 0.000421 RECALL@3: 0.000727 RECALL@5: 0.000949 RECALL@10: 0.001469 MAP@1: 0.014553 MAP@3: 0.023909 MAP@5: 0.027339 MAP@10: 0.029172 NDCG@1: 0.014553 NDCG@3: 0.033041 NDCG@5: 0.03951 NDCG@10: 0.04431 \n",
      "[Case Recommender: Item Recommendation > Most Popular]\n",
      "\n",
      "train data:: 489 users and 13034 items (23383 interactions) | sparsity:: 99.63%\n",
      "test data:: 481 users and 9680 items (15589 interactions) | sparsity:: 99.67%\n",
      "\n",
      "prediction_time:: 8.475328 sec\n",
      "\n",
      "\n",
      "Eval:: PREC@1: 0.008316 PREC@3: 0.01386 PREC@5: 0.009979 PREC@10: 0.017048 RECALL@1: 0.000333 RECALL@3: 0.001111 RECALL@5: 0.001178 RECALL@10: 0.005473 MAP@1: 0.008316 MAP@3: 0.022003 MAP@5: 0.023354 MAP@10: 0.036046 NDCG@1: 0.008316 NDCG@3: 0.034514 NDCG@5: 0.036824 NDCG@10: 0.070554 \n",
      "[Case Recommender: Item Recommendation > PaCo Recommender Algorithm]\n",
      "\n",
      "Eval:: PREC@1: 0.0 PREC@3: 0.002079 PREC@5: 0.002079 PREC@10: 0.001247 RECALL@1: 0.0 RECALL@3: 2.7e-05 RECALL@5: 4.4e-05 RECALL@10: 4.8e-05 MAP@1: 0.0 MAP@3: 0.001906 MAP@5: 0.002437 MAP@10: 0.002339 NDCG@1: 0.0 NDCG@3: 0.003007 NDCG@5: 0.00398 NDCG@10: 0.00392 \n",
      "Wall time: 8min 3s\n"
     ]
    }
   ],
   "source": [
    "%%time\n",
    "\n",
    "for model_case in models_case.values():\n",
    "    model_case.compute()"
   ]
  },
  {
   "cell_type": "markdown",
   "metadata": {},
   "source": [
    "Как мы видим, лучшей моделью является выбор самых популярных объектов. Посмотрим, как она себя покажет на тестовой части. Заметим, что подобрать гиперпараметры к этой модели нельзя."
   ]
  },
  {
   "cell_type": "code",
   "execution_count": 394,
   "metadata": {},
   "outputs": [
    {
     "name": "stdout",
     "output_type": "stream",
     "text": [
      "[Case Recommender: Item Recommendation > Most Popular]\n",
      "\n",
      "train data:: 490 users and 18906 items (38972 interactions) | sparsity:: 99.58%\n",
      "test data:: 489 users and 14252 items (25981 interactions) | sparsity:: 99.63%\n",
      "\n",
      "prediction_time:: 14.507222 sec\n",
      "\n",
      "\n",
      "Eval:: PREC@1: 0.018405 PREC@3: 0.025222 PREC@5: 0.039673 PREC@10: 0.029039 RECALL@1: 0.000343 RECALL@3: 0.001235 RECALL@5: 0.00395 RECALL@10: 0.005769 MAP@1: 0.018405 MAP@3: 0.039707 MAP@5: 0.061787 MAP@10: 0.06676 NDCG@1: 0.018405 NDCG@3: 0.059499 NDCG@5: 0.100546 NDCG@10: 0.113977 \n"
     ]
    }
   ],
   "source": [
    "best_model_case = MostPopular(train_file='notest_data.csv', test_file='test_data.csv', rank_length=50)\n",
    "best_model_case.compute()"
   ]
  },
  {
   "cell_type": "markdown",
   "metadata": {},
   "source": [
    "Как мы видим, результаты улучшились. Увеличение данных пошло модели на пользу. Теперь попытаемся предсказать 20 артистов для пользователя с ID 664 (здесь и далее все предсказания для этого пользователя)."
   ]
  },
  {
   "cell_type": "code",
   "execution_count": 395,
   "metadata": {},
   "outputs": [],
   "source": [
    "best_model_case.predict()"
   ]
  },
  {
   "cell_type": "code",
   "execution_count": 478,
   "metadata": {},
   "outputs": [
    {
     "name": "stdout",
     "output_type": "stream",
     "text": [
      "User ID: 664\n"
     ]
    }
   ],
   "source": [
    "print(\"User ID:\", int(knn_rank[70, 0]))"
   ]
  },
  {
   "cell_type": "code",
   "execution_count": 479,
   "metadata": {},
   "outputs": [
    {
     "name": "stdout",
     "output_type": "stream",
     "text": [
      "Top 20:\n",
      "enigma, shakira & alejandro sanz -, purity ring, coldplay & kylie minogue, the beatles & george martin, arashi, britney spears/stockholm session strings, last lynx, yann tiersen, royal gigolos, vampire weekend, lana del rey, what so not, alt-j ∆, arctic monekys, maximum the hormone, robert delong, lorde & katy perry, florence + the machine, radioheadncon\n"
     ]
    }
   ],
   "source": [
    "pop_rank = np.array(best_model_case.ranking)\n",
    "\n",
    "pop_pers_ID = pop_rank[np.in1d(np.array(pop_rank)[:, 0], pop_rank[70, 0])][:, 1].astype('int64')\n",
    "\n",
    "pop_pers = np.vectorize(persons[['ID', 'name']].set_index('ID').to_dict()['name'].get)(pop_pers_ID)\n",
    "\n",
    "index_pers = np.unique(pop_pers, return_index=1)[1]\n",
    "\n",
    "index_pers.sort()\n",
    "\n",
    "print('Top 20:')\n",
    "\n",
    "print(*pop_pers[index_pers][:20], sep=', ')"
   ]
  },
  {
   "cell_type": "markdown",
   "metadata": {},
   "source": [
    "В этот ответ можно поверить, так как почти все артисты здесь крайне популярны."
   ]
  },
  {
   "cell_type": "markdown",
   "metadata": {},
   "source": [
    "Теперь посмотрим, как сильно похожи прогнозы разных моделей. Проведем статистический анализ. Посмотрим на распределения прогнозов для нашего пользователя."
   ]
  },
  {
   "cell_type": "code",
   "execution_count": 410,
   "metadata": {},
   "outputs": [],
   "source": [
    "from caserec.evaluation.statistical_analysis import StatisticalAnalysis"
   ]
  },
  {
   "cell_type": "code",
   "execution_count": 411,
   "metadata": {},
   "outputs": [],
   "source": [
    "models_case['itemknn'].predict()\n",
    "models_case['pop'].predict()"
   ]
  },
  {
   "cell_type": "code",
   "execution_count": 474,
   "metadata": {},
   "outputs": [
    {
     "name": "stdout",
     "output_type": "stream",
     "text": [
      "User ID: 664\n"
     ]
    }
   ],
   "source": [
    "print(\"User ID:\", int(knn_rank[70, 0]))"
   ]
  },
  {
   "cell_type": "code",
   "execution_count": 475,
   "metadata": {},
   "outputs": [],
   "source": [
    "knn_rank = np.array(models_case['itemknn'].ranking)\n",
    "pop_rank = np.array(models_case['pop'].ranking)\n",
    "\n",
    "knn_per_one_user = knn_rank[np.in1d(np.array(knn_rank)[:, 0], knn_rank[70, 0])][:, 1:]\n",
    "pop_per_one_user = pop_rank[np.in1d(np.array(pop_rank)[:, 0], pop_rank[70, 0])][:, 1:]"
   ]
  },
  {
   "cell_type": "code",
   "execution_count": 476,
   "metadata": {},
   "outputs": [],
   "source": [
    "knn_grid = np.zeros(max(int(knn_per_one_user[:, 0].max()), int(pop_per_one_user[:, 0].max())) + 1)\n",
    "\n",
    "for i in range(knn_per_one_user.shape[0]):\n",
    "    knn_grid[int(knn_per_one_user[i, 0])] += knn_per_one_user[i, 1]\n",
    "    \n",
    "pop_grid = np.zeros(max(int(knn_per_one_user[:, 0].max()), int(pop_per_one_user[:, 0].max())) + 1)\n",
    "\n",
    "for i in range(pop_per_one_user.shape[0]):\n",
    "    pop_grid[int(pop_per_one_user[i, 0])] += pop_per_one_user[i, 1]"
   ]
  },
  {
   "cell_type": "markdown",
   "metadata": {},
   "source": [
    "Мы проведем тест Вилкоксона о равенстве распределений, так как он не требует условий в виде нормального распределения данных."
   ]
  },
  {
   "cell_type": "code",
   "execution_count": 477,
   "metadata": {
    "scrolled": true
   },
   "outputs": [
    {
     "name": "stdout",
     "output_type": "stream",
     "text": [
      "=== Information About Samples ===\n",
      "Standard Deviation Sample1: 6.769191092104516\n",
      "Standard Deviation Sample2: 0.019351283938501083\n",
      "\n",
      "=== Analyzing the Difference Between Samples ===\n",
      "SAD:13150.55008854864\n",
      "SSD:18850621.637397457\n",
      "Correlation:-2.315567012636268e-05\n",
      "\n",
      "=== Wilcoxon Analysis ===\n",
      "The calculated t-statistic: 4.6418055031603694e-07\n",
      "The two-tailed p-value: 0.9999996296375054\n",
      "\n"
     ]
    }
   ],
   "source": [
    "stat_an = StatisticalAnalysis(pop_grid, knn_grid, method='wilcoxon')\n",
    "\n",
    "stat_an.execute()"
   ]
  },
  {
   "cell_type": "markdown",
   "metadata": {},
   "source": [
    "Как мы видим, между прогнозами отсутствует связь, и на любом уровне значимости мы можем отклонить гипотезу о том, что распределения одинаковы. Для оценки значимости одного предсказания можно взять строку пользователя из рекомендательной матрицы и сравнить их распределения."
   ]
  },
  {
   "cell_type": "markdown",
   "metadata": {},
   "source": [
    "## Implicit"
   ]
  },
  {
   "attachments": {},
   "cell_type": "markdown",
   "metadata": {},
   "source": [
    "Теперь рассмотрим библиотеку Implicit, в которой раелизованы разные алгоритмы Collaborative Filtering и методы ближайших соседей на разных мерах. В качестве моделей рассмотрим методы Alternating Least Squares, Bayesian Personal Ranking, Logistic Matrix Factorization и Logistic Matrix Factorization, а также меры косинуса, TF-IDF и BM25. Из доступных метрик в этой библиотеке есть Mean Average Precision, Normalized Discounted Cumulative Gain и AUC. взятые при $k=10$."
   ]
  },
  {
   "cell_type": "code",
   "execution_count": 184,
   "metadata": {},
   "outputs": [],
   "source": [
    "from implicit.als import AlternatingLeastSquares\n",
    "from implicit.bpr import BayesianPersonalizedRanking\n",
    "from implicit.lmf import LogisticMatrixFactorization\n",
    "from implicit.nearest_neighbours import (BM25Recommender, CosineRecommender, TFIDFRecommender)\n",
    "\n",
    "from implicit.evaluation import train_test_split, mean_average_precision_at_k, ndcg_at_k, AUC_at_k"
   ]
  },
  {
   "cell_type": "markdown",
   "metadata": {},
   "source": [
    "Разобьем нашу матрицу и подготовим натренируем модели."
   ]
  },
  {
   "cell_type": "code",
   "execution_count": 185,
   "metadata": {},
   "outputs": [],
   "source": [
    "notest_matrix, test_matrix = train_test_split(rec_matrix, train_percentage=0.6)\n",
    "train_matrix, val_matrix = train_test_split(notest_matrix, train_percentage=0.6)\n",
    "\n",
    "models = {'als': AlternatingLeastSquares(), 'bpr': BayesianPersonalizedRanking(),\n",
    "         'lmf': LogisticMatrixFactorization(), 'bm25': BM25Recommender(),\n",
    "         'cos': CosineRecommender(), 'tf-idf': TFIDFRecommender()}\n",
    "\n",
    "estimators = {'map': mean_average_precision_at_k, 'ndcg': ndcg_at_k, 'auc': AUC_at_k}\n",
    "\n",
    "values = {'als': {'map': 0, 'ndcg': 0, 'auc': 0}, 'bpr': {'map': 0, 'ndcg': 0, 'auc': 0},\n",
    "         'lmf': {'map': 0, 'ndcg': 0, 'auc': 0}, 'bm25': {'map': 0, 'ndcg': 0, 'auc': 0},\n",
    "         'cos': {'map': 0, 'ndcg': 0, 'auc': 0}, 'tf-idf': {'map': 0, 'ndcg': 0, 'auc': 0}}"
   ]
  },
  {
   "cell_type": "code",
   "execution_count": 186,
   "metadata": {},
   "outputs": [
    {
     "name": "stdout",
     "output_type": "stream",
     "text": [
      "Wall time: 1.88 s\n"
     ]
    }
   ],
   "source": [
    "%%time\n",
    "\n",
    "for model in models:\n",
    "    models[model].fit(train_matrix, show_progress=False)"
   ]
  },
  {
   "cell_type": "markdown",
   "metadata": {},
   "source": [
    "Теперь оценим модели и посмотрим на результаты."
   ]
  },
  {
   "cell_type": "code",
   "execution_count": 187,
   "metadata": {},
   "outputs": [
    {
     "name": "stdout",
     "output_type": "stream",
     "text": [
      "Wall time: 3.88 s\n"
     ]
    }
   ],
   "source": [
    "%%time\n",
    "\n",
    "for model in models:\n",
    "    for estimator in estimators:       \n",
    "        values[model][estimator] = estimators[estimator](models[model], train_matrix.T, val_matrix.T, show_progress=False)"
   ]
  },
  {
   "cell_type": "code",
   "execution_count": 188,
   "metadata": {
    "scrolled": true
   },
   "outputs": [
    {
     "data": {
      "image/png": "[encoded data removed]",
      "text/plain": [
       "<Figure size 432x288 with 1 Axes>"
      ]
     },
     "metadata": {
      "needs_background": "light"
     },
     "output_type": "display_data"
    }
   ],
   "source": [
    "pd.DataFrame(values).T.plot(kind='bar');"
   ]
  },
  {
   "cell_type": "markdown",
   "metadata": {},
   "source": [
    "Как мы видим, лучшей моделью является Байесовский алгоритм ранжирования, тем не менее, стоит указать на низкие значения метрик. На мой взгляд, они связаны с маленькой выборкой данных. На больших данных результаты будуь лучше."
   ]
  },
  {
   "cell_type": "markdown",
   "metadata": {},
   "source": [
    "Теперь посмотрим, как можно развить лучшую модель и подберем ей гиперпараметры."
   ]
  },
  {
   "cell_type": "code",
   "execution_count": 190,
   "metadata": {},
   "outputs": [],
   "source": [
    "factors = [10, 50, 100]\n",
    "iterations = [10, 15, 20]\n",
    "rates = [0.01, 0.05, 0.1]\n",
    "\n",
    "grid_models = {num_factor: {num_it: {rate: BayesianPersonalizedRanking(factors=num_factor, learning_rate=rate, \\\n",
    "                    iterations=num_it) for rate in rates} for num_it in iterations} for num_factor in factors}\n",
    "\n",
    "grid_values = {num_factor: {num_it: {rate: {'map': 0, 'ndcg': 0, 'auc': 0} for rate in rates} \\\n",
    "                            for num_it in iterations} for num_factor in factors}"
   ]
  },
  {
   "cell_type": "code",
   "execution_count": 191,
   "metadata": {},
   "outputs": [
    {
     "name": "stdout",
     "output_type": "stream",
     "text": [
      "Wall time: 2.03 s\n"
     ]
    }
   ],
   "source": [
    "%%time\n",
    "\n",
    "for num_factor in factors:\n",
    "    for num_it in iterations:\n",
    "        for rate in rates:\n",
    "            grid_models[num_factor][num_it][rate].fit(train_matrix, show_progress=False)"
   ]
  },
  {
   "cell_type": "code",
   "execution_count": 192,
   "metadata": {},
   "outputs": [
    {
     "name": "stdout",
     "output_type": "stream",
     "text": [
      "Wall time: 25.4 s\n"
     ]
    }
   ],
   "source": [
    "%%time\n",
    "\n",
    "for num_factor in factors:\n",
    "    for num_it in iterations:\n",
    "        for rate in rates:\n",
    "            for estimator in estimators:\n",
    "                grid_values[num_factor][num_it][rate][estimator] = estimators[estimator](grid_models[num_factor][num_it][rate], \n",
    "                                                             train_matrix.T, val_matrix.T, show_progress=False)"
   ]
  },
  {
   "cell_type": "code",
   "execution_count": 193,
   "metadata": {},
   "outputs": [],
   "source": [
    "map_values, ndcg_values, auc_values, grids = [], [], [], []\n",
    "\n",
    "for num_factor in factors:\n",
    "    for num_it in iterations:\n",
    "        for rate in rates:\n",
    "            grids.append(str(num_factor) + '_' + str(num_it) + '_' + str(rate))\n",
    "            map_values.append(grid_values[num_factor][num_it][rate]['map'])\n",
    "            ndcg_values.append(grid_values[num_factor][num_it][rate]['ndcg'])\n",
    "            auc_values.append(grid_values[num_factor][num_it][rate]['auc'])"
   ]
  },
  {
   "cell_type": "code",
   "execution_count": 194,
   "metadata": {
    "scrolled": false
   },
   "outputs": [
    {
     "data": {
      "image/png": "[encoded data removed]",
      "text/plain": [
       "<Figure size 864x648 with 1 Axes>"
      ]
     },
     "metadata": {
      "needs_background": "light"
     },
     "output_type": "display_data"
    }
   ],
   "source": [
    "pd.DataFrame([map_values, ndcg_values, auc_values], columns=grids, index=estimators.keys()).plot(kind='bar',\n",
    "                                                                                        figsize=(12,9));"
   ]
  },
  {
   "cell_type": "code",
   "execution_count": 195,
   "metadata": {},
   "outputs": [
    {
     "data": {
      "text/plain": [
       "{'map': 0.016078283957981235,\n",
       " 'ndcg': 0.03776068163280332,\n",
       " 'auc': 0.5069829103277906}"
      ]
     },
     "execution_count": 195,
     "metadata": {},
     "output_type": "execute_result"
    }
   ],
   "source": [
    "grid_values[50][20][0.1]"
   ]
  },
  {
   "cell_type": "markdown",
   "metadata": {},
   "source": [
    "Итак, мы нашли лучшие параметры, которые улучшили наши результаты. Заметим, что расброс результатов при разных наборе опций примерно одинаковый, что говорит об их незначительности по сравнению с другими недостатками модели как маленькая выборка данных."
   ]
  },
  {
   "cell_type": "markdown",
   "metadata": {},
   "source": [
    "Теперь посмотрим на результаты лучшей модели на тестовых данных."
   ]
  },
  {
   "cell_type": "code",
   "execution_count": 198,
   "metadata": {},
   "outputs": [
    {
     "data": {
      "text/plain": [
       "{'map': 0.032612936344969194,\n",
       " 'ndcg': 0.0754983601439527,\n",
       " 'auc': 0.5081652742674927}"
      ]
     },
     "execution_count": 198,
     "metadata": {},
     "output_type": "execute_result"
    }
   ],
   "source": [
    "test_values = {'map': 0, 'ndcg': 0, 'auc': 0}\n",
    "\n",
    "best_model = BayesianPersonalizedRanking(factors=50, learning_rate=0.1, iterations=20)\n",
    "best_model.fit(notest_matrix, show_progress=False)\n",
    "\n",
    "for estimator in estimators:\n",
    "    test_values[estimator] = estimators[estimator](best_model, \n",
    "                                                 notest_matrix.T, test_matrix.T, show_progress=False)\n",
    "\n",
    "test_values"
   ]
  },
  {
   "cell_type": "markdown",
   "metadata": {},
   "source": [
    "Как мы видим, результаты улучшились, но они все ещё в разы хуже базового метода. Посмотрим теперь на предсказания."
   ]
  },
  {
   "cell_type": "code",
   "execution_count": 538,
   "metadata": {
    "scrolled": true
   },
   "outputs": [
    {
     "name": "stdout",
     "output_type": "stream",
     "text": [
      "Top 20:\n",
      "m83, dusty springfield, nick drake, damien rice & ray lamontagne, bowie, death cab for cutie, creedence clearwater revival, the raveonettes, neil young & the ducks, paul mccartney & wings - www.musicasparabaixar.org, wild nothing, lou reed & metallica, the shins, cat steven, rolling stones, freelance whales, edward sharpe & the magnetic zeros/the flaming lips, ben howard, arcade fire, ten cc\n"
     ]
    }
   ],
   "source": [
    "implicit_pos = np.array(best_model.recommend(grouped_table.columns.get_loc(664), rec_matrix, 20))[:, 0].astype('int64')\n",
    "\n",
    "implicit_IDs = grouped_table.index[implicit_pos]\n",
    "\n",
    "implicit_list = np.vectorize(persons[['ID', 'name']].set_index('ID').to_dict()['name'].get)(implicit_IDs)\n",
    "\n",
    "print('Top 20:')\n",
    "\n",
    "print(*implicit_list, sep=', ')"
   ]
  },
  {
   "cell_type": "markdown",
   "metadata": {},
   "source": [
    "Значения сильно разнятся с базовым подходом, что крайне сомнительно и говорит о плохом качестве модели. Поэтому все рассмотренные в этой модели библиотеки мы отбрасываем."
   ]
  },
  {
   "cell_type": "markdown",
   "metadata": {},
   "source": [
    "## LightFM"
   ]
  },
  {
   "cell_type": "markdown",
   "metadata": {},
   "source": [
    "Сейчас рассмотрим библиотеку LightFM, которая может подключать дополнительные фичи, связанные с пользователями и артистами. Также, мы рассмотрим ещё одну метрику среднеобратного ранга."
   ]
  },
  {
   "cell_type": "code",
   "execution_count": 106,
   "metadata": {},
   "outputs": [],
   "source": [
    "from lightfm import LightFM"
   ]
  },
  {
   "cell_type": "code",
   "execution_count": 199,
   "metadata": {},
   "outputs": [],
   "source": [
    "from lightfm.cross_validation import random_train_test_split\n",
    "from lightfm.evaluation import precision_at_k, recall_at_k, reciprocal_rank"
   ]
  },
  {
   "cell_type": "markdown",
   "metadata": {},
   "source": [
    "Разбиваем данные."
   ]
  },
  {
   "cell_type": "code",
   "execution_count": 203,
   "metadata": {},
   "outputs": [],
   "source": [
    "notest_matrix, test_matrix = random_train_test_split(rec_matrix.T, test_percentage=0.4)\n",
    "train_matrix, val_matrix = random_train_test_split(notest_matrix, test_percentage=0.4)"
   ]
  },
  {
   "cell_type": "markdown",
   "metadata": {},
   "source": [
    "Теперь создаем фичи о пользователях. Для этого воспользуемся данными о возрасте, плейлистах, времени прослушивания, поле, стране и типу подписки."
   ]
  },
  {
   "cell_type": "code",
   "execution_count": 137,
   "metadata": {
    "scrolled": true
   },
   "outputs": [],
   "source": [
    "users['age'] = users.Properties.str.findall('age\":(.*?),').str.get(0).replace('', '-1').astype('int64')\n",
    "users['playlists'] = users.Properties.str.findall('playlists\":(.*?),').str.get(0).replace('', '-1').astype('int64')\n",
    "users['playcount'] = users.Properties.str.findall('playcount\":(.*?),').str.get(0).replace('', '-1').astype('int64')"
   ]
  },
  {
   "cell_type": "code",
   "execution_count": 138,
   "metadata": {},
   "outputs": [],
   "source": [
    "user_feat = users[['age', 'playcount', 'playlists']]\\\n",
    "               .join([pd.get_dummies(users.Properties.str.findall('gender\":\"(.*?)\"').str.get(0) \\\n",
    "                                .apply(unquote_plus).apply(unquote_plus).str.lower(), drop_first=True),\n",
    "               pd.get_dummies(users.Properties.str.findall('country\":\"(.*?)\"').str.get(0) \\\n",
    "                                .apply(unquote_plus).apply(unquote_plus), drop_first=True),\n",
    "               pd.get_dummies(users.Properties.str.findall('subscribertype\":\"(.*?)\"').str.get(0) \\\n",
    "                                .apply(unquote_plus).apply(unquote_plus), drop_first=True)], rsuffix='1').values"
   ]
  },
  {
   "cell_type": "markdown",
   "metadata": {},
   "source": [
    "Теперь попытаемся добыть информацию о треках. В качестве базовой модели я применил метод TF-IDF к названиям песен."
   ]
  },
  {
   "cell_type": "code",
   "execution_count": 110,
   "metadata": {},
   "outputs": [],
   "source": [
    "tracks['name'] = tracks.Properties.str.findall('\"name\":\"(.*?)\"').str.get(0) \\\n",
    "                            .apply(unquote_plus).apply(unquote_plus).str.lower().str.split('/_/').str.get(-1)"
   ]
  },
  {
   "cell_type": "code",
   "execution_count": 111,
   "metadata": {},
   "outputs": [],
   "source": [
    "import nltk\n",
    "from nltk.corpus import stopwords\n",
    "sw_eng = set(stopwords.words('english'))\n",
    "\n",
    "from nltk import WordNetLemmatizer\n",
    "from nltk import wordnet, pos_tag\n",
    "from gensim.models import word2vec\n",
    "from sklearn.feature_extraction.text import TfidfVectorizer"
   ]
  },
  {
   "cell_type": "code",
   "execution_count": 112,
   "metadata": {},
   "outputs": [],
   "source": [
    "def get_wordnet_pos(treebank_tag):\n",
    "    \n",
    "    my_switch = {\n",
    "        'J': wordnet.wordnet.ADJ,\n",
    "        'V': wordnet.wordnet.VERB,\n",
    "        'N': wordnet.wordnet.NOUN,\n",
    "        'R': wordnet.wordnet.ADV,\n",
    "    }\n",
    "    \n",
    "    for key, item in my_switch.items():\n",
    "        if treebank_tag.startswith(key):\n",
    "            return item\n",
    "    return wordnet.wordnet.NOUN\n",
    "\n",
    "def my_lemmatizer(sent):\n",
    "    lemmatizer = WordNetLemmatizer()\n",
    "    tokenized_sent = sent.split()\n",
    "    pos_tagged = [(word, get_wordnet_pos(tag))\n",
    "                 for word, tag in pos_tag(tokenized_sent)]\n",
    "    return ' '.join([lemmatizer.lemmatize(word, tag)\n",
    "                    for word, tag in pos_tagged])\n",
    "\n",
    "def preproc(x):\n",
    "    lemmas = my_lemmatizer(' '.join([re.sub('[(){}<>-]', '', i).strip('-') \\\n",
    "                                for i in re.split(r'[\\n\\r\\s\\d.,&?!*;:]', x.lower()) \\\n",
    "                                if re.sub('[(){}<>]', '', i).strip('-') not in ('', '-')]))\n",
    "    return ' '.join([i for i in lemmas.split() if i not in sw_eng])"
   ]
  },
  {
   "cell_type": "code",
   "execution_count": 132,
   "metadata": {},
   "outputs": [],
   "source": [
    "names = np.array([persons.name[persons.ID == x].values[0] for x in grouped_table.index])"
   ]
  },
  {
   "cell_type": "code",
   "execution_count": 135,
   "metadata": {},
   "outputs": [
    {
     "name": "stdout",
     "output_type": "stream",
     "text": [
      "Wall time: 14.3 s\n"
     ]
    }
   ],
   "source": [
    "%%time\n",
    "vect_preproc = np.vectorize(preproc)\n",
    "names = vect_preproc(names)"
   ]
  },
  {
   "cell_type": "code",
   "execution_count": 146,
   "metadata": {},
   "outputs": [
    {
     "name": "stdout",
     "output_type": "stream",
     "text": [
      "Wall time: 220 ms\n"
     ]
    }
   ],
   "source": [
    "%%time\n",
    "\n",
    "tdidf = TfidfVectorizer(stop_words='english')\n",
    "\n",
    "item_feat = tdidf.fit_transform(names)"
   ]
  },
  {
   "cell_type": "markdown",
   "metadata": {},
   "source": [
    "Теперь рассмотрим две ситуации - с фичами и без. В качестве моделей у нас Bayesian Personalised Ranking, Weighted Approximate-Rank и Logistic Matrix Factorization."
   ]
  },
  {
   "cell_type": "markdown",
   "metadata": {},
   "source": [
    "Посмотрим на случай с использованием фич. Сначала натренируем модели."
   ]
  },
  {
   "cell_type": "code",
   "execution_count": 201,
   "metadata": {},
   "outputs": [],
   "source": [
    "losses = ['logistic', 'bpr', 'warp', 'warp-kos']\n",
    "\n",
    "modelsFM = {loss: LightFM(loss=loss) for loss in losses}\n",
    "\n",
    "estimatorsFM = {'prec': precision_at_k, 'rec': recall_at_k, 'rank': reciprocal_rank}\n",
    "\n",
    "valuesFM = {loss: {est: 0 for est in estimatorsFM} for loss in losses}"
   ]
  },
  {
   "cell_type": "code",
   "execution_count": 204,
   "metadata": {},
   "outputs": [],
   "source": [
    "for modelFM in modelsFM.values():\n",
    "    modelFM.fit(train_matrix, user_features=csr_matrix(user_feat), item_features=item_feat)"
   ]
  },
  {
   "cell_type": "markdown",
   "metadata": {},
   "source": [
    "Теперь оценим метрики."
   ]
  },
  {
   "cell_type": "code",
   "execution_count": 206,
   "metadata": {},
   "outputs": [
    {
     "name": "stdout",
     "output_type": "stream",
     "text": [
      "Wall time: 16.6 s\n"
     ]
    }
   ],
   "source": [
    "%%time\n",
    "\n",
    "for loss in losses:\n",
    "    for est in estimatorsFM:\n",
    "        valuesFM[loss][est] = estimatorsFM[est](modelsFM[loss], val_matrix, train_interactions=train_matrix, \n",
    "            user_features=csr_matrix(user_feat), item_features=item_feat).mean()"
   ]
  },
  {
   "cell_type": "code",
   "execution_count": 207,
   "metadata": {},
   "outputs": [
    {
     "data": {
      "image/png": "[encoded data removed]",
      "text/plain": [
       "<Figure size 432x288 with 1 Axes>"
      ]
     },
     "metadata": {
      "needs_background": "light"
     },
     "output_type": "display_data"
    }
   ],
   "source": [
    "pd.DataFrame(valuesFM).T.plot(kind='bar');"
   ]
  },
  {
   "cell_type": "markdown",
   "metadata": {},
   "source": [
    "Как мы видим, Байесовский метод тут всех побеждает, но результаты метрик крайне малы. Они не насчитывают даже десятой доли."
   ]
  },
  {
   "cell_type": "markdown",
   "metadata": {},
   "source": [
    "Теперь посмотрим на ситуацию, когда фич нет. Совершим все те же действия и посмотрим на результат."
   ]
  },
  {
   "cell_type": "code",
   "execution_count": 208,
   "metadata": {},
   "outputs": [],
   "source": [
    "losses = ['logistic', 'bpr', 'warp', 'warp-kos']\n",
    "\n",
    "modelsFM = {loss: LightFM(loss=loss) for loss in losses}\n",
    "\n",
    "estimatorsFM = {'prec': precision_at_k, 'rec': recall_at_k, 'rank': reciprocal_rank}\n",
    "\n",
    "valuesFM = {loss: {est: 0 for est in estimatorsFM} for loss in losses}"
   ]
  },
  {
   "cell_type": "code",
   "execution_count": 209,
   "metadata": {},
   "outputs": [],
   "source": [
    "for modelFM in modelsFM.values():\n",
    "    modelFM.fit(train_matrix)"
   ]
  },
  {
   "cell_type": "code",
   "execution_count": 211,
   "metadata": {},
   "outputs": [
    {
     "name": "stdout",
     "output_type": "stream",
     "text": [
      "Wall time: 13.8 s\n"
     ]
    }
   ],
   "source": [
    "%%time\n",
    "\n",
    "for loss in losses:\n",
    "    for est in estimatorsFM:\n",
    "        valuesFM[loss][est] = estimatorsFM[est](modelsFM[loss], val_matrix, train_interactions=train_matrix).mean()"
   ]
  },
  {
   "cell_type": "code",
   "execution_count": 212,
   "metadata": {},
   "outputs": [
    {
     "data": {
      "image/png": "[encoded data removed]",
      "text/plain": [
       "<Figure size 432x288 with 1 Axes>"
      ]
     },
     "metadata": {
      "needs_background": "light"
     },
     "output_type": "display_data"
    }
   ],
   "source": [
    "pd.DataFrame(valuesFM).T.plot(kind='bar');"
   ]
  },
  {
   "cell_type": "markdown",
   "metadata": {},
   "source": [
    "Как можно заметить, результаты значительно улучшились, а лучшей сейчас стала логистическая модель. Подберем под нее гиперпараметры."
   ]
  },
  {
   "cell_type": "code",
   "execution_count": 219,
   "metadata": {},
   "outputs": [],
   "source": [
    "no_s_components = [10, 50, 100]\n",
    "k_s = [5, 10, 15, 20]\n",
    "n_s = [5, 10, 15, 20]\n",
    "rates = [0.01, 0.05, 0.1]\n",
    "\n",
    "grid_models_FM = {no_components: {k: {n: {rate: LightFM(loss='logistic', no_components=no_components, learning_rate=rate, \\\n",
    "                    k=k, n=n) for rate in rates} for n in n_s} for k in k_s} for no_components in no_s_components}\n",
    "\n",
    "grid_values_FM = {no_components: {k: {n: {rate: {est: 0 for est in estimatorsFM} \\\n",
    "                                          for rate in rates} for n in n_s} for k in k_s} for no_components in no_s_components}"
   ]
  },
  {
   "cell_type": "code",
   "execution_count": 222,
   "metadata": {},
   "outputs": [
    {
     "name": "stdout",
     "output_type": "stream",
     "text": [
      "Wall time: 33.1 s\n"
     ]
    }
   ],
   "source": [
    "%%time\n",
    "\n",
    "for no_components in no_s_components:\n",
    "    for k in k_s:\n",
    "        for n in n_s:\n",
    "            for rate in rates:\n",
    "                grid_models_FM[no_components][k][n][rate].fit(train_matrix)"
   ]
  },
  {
   "cell_type": "code",
   "execution_count": 228,
   "metadata": {},
   "outputs": [
    {
     "name": "stdout",
     "output_type": "stream",
     "text": [
      "Wall time: 18min 7s\n"
     ]
    }
   ],
   "source": [
    "%%time\n",
    "\n",
    "for no_components in no_s_components:\n",
    "    for k in k_s:\n",
    "        for n in n_s:\n",
    "            for rate in rates:\n",
    "                for est in estimatorsFM:\n",
    "                    grid_values_FM[no_components][k][n][rate][est] = estimatorsFM[est](\\\n",
    "                                grid_models_FM[no_components][k][n][rate],\n",
    "                                val_matrix, train_interactions=train_matrix).mean()"
   ]
  },
  {
   "cell_type": "code",
   "execution_count": 229,
   "metadata": {},
   "outputs": [],
   "source": [
    "prec_values, rec_values, rank_values, grids_FM = [], [], [], []\n",
    "\n",
    "for no_components in no_s_components:\n",
    "    for k in k_s:\n",
    "        for n in n_s:\n",
    "            for rate in rates:\n",
    "                grids_FM.append(str(no_components) + '_' + str(k) + '_' + str(n) + '_' + str(rate))\n",
    "                prec_values.append(grid_values_FM[no_components][k][n][rate]['prec'])\n",
    "                rec_values.append(grid_values_FM[no_components][k][n][rate]['rec'])\n",
    "                rank_values.append(grid_values_FM[no_components][k][n][rate]['rank'])"
   ]
  },
  {
   "cell_type": "markdown",
   "metadata": {},
   "source": [
    "Теперь посмотрим на них."
   ]
  },
  {
   "cell_type": "code",
   "execution_count": 258,
   "metadata": {},
   "outputs": [
    {
     "data": {
      "image/png": "[encoded data removed]",
      "text/plain": [
       "<Figure size 864x648 with 1 Axes>"
      ]
     },
     "metadata": {
      "needs_background": "light"
     },
     "output_type": "display_data"
    }
   ],
   "source": [
    "pd.DataFrame([prec_values, rec_values, rank_values], columns=grids_FM, index=estimatorsFM.keys()).plot(kind='bar',\n",
    "                                                                                        figsize=(12,9), legend=False);"
   ]
  },
  {
   "cell_type": "markdown",
   "metadata": {},
   "source": [
    "Нельзя однозначно сказать, какая модель лучше по графику, поэтому выберем лучшую модель из среднего по нормализованным метрикам."
   ]
  },
  {
   "cell_type": "code",
   "execution_count": 274,
   "metadata": {},
   "outputs": [
    {
     "data": {
      "text/plain": [
       "'50_15_20_0.1'"
      ]
     },
     "execution_count": 274,
     "metadata": {},
     "output_type": "execute_result"
    }
   ],
   "source": [
    "grids_FM[normalize(np.array([prec_values, rec_values, rank_values])).mean(axis=0).argmax()]"
   ]
  },
  {
   "cell_type": "code",
   "execution_count": 275,
   "metadata": {},
   "outputs": [
    {
     "data": {
      "text/plain": [
       "{'prec': 0.04273859, 'rec': 0.01636519989670398, 'rank': 0.14900239}"
      ]
     },
     "execution_count": 275,
     "metadata": {},
     "output_type": "execute_result"
    }
   ],
   "source": [
    "grid_values_FM[50][15][20][0.1]"
   ]
  },
  {
   "cell_type": "markdown",
   "metadata": {},
   "source": [
    "Результаты обновленной модели улучшились по сравнению с состоянием \"до\". А теперь посмотрим на результаты на тестовой части."
   ]
  },
  {
   "cell_type": "code",
   "execution_count": 277,
   "metadata": {},
   "outputs": [
    {
     "data": {
      "text/plain": [
       "{'prec': 0.07276423, 'rec': 0.01646463538614045, 'rank': 0.19166632}"
      ]
     },
     "execution_count": 277,
     "metadata": {},
     "output_type": "execute_result"
    }
   ],
   "source": [
    "test_values_FM = {'prec': 0, 'rec': 0, 'rank': 0}\n",
    "\n",
    "best_model_FM = LightFM(loss='logistic', no_components=50, learning_rate=0.1, k=15, n=20)\n",
    "best_model_FM.fit(notest_matrix)\n",
    "\n",
    "for estimator in estimatorsFM:\n",
    "    test_values_FM[estimator] = estimatorsFM[estimator](best_model_FM, test_matrix, train_interactions=notest_matrix).mean()\n",
    "\n",
    "test_values_FM"
   ]
  },
  {
   "cell_type": "markdown",
   "metadata": {},
   "source": [
    "Они показали большой рост в двух метриках и маленький в третьей, что говорит о том, что увеличение данных улучшило нашу модель."
   ]
  },
  {
   "cell_type": "markdown",
   "metadata": {},
   "source": [
    "Теперь выберем 20 исполнителей для нашего пользователя из этой модели."
   ]
  },
  {
   "cell_type": "code",
   "execution_count": 522,
   "metadata": {},
   "outputs": [],
   "source": [
    "persons_pos = best_model_FM.predict(user_ids=grouped_table.columns.get_loc(664), \n",
    "                      item_ids=np.unique(grouped_table.index, return_index=1)[1]).argsort()[::-1][:20]"
   ]
  },
  {
   "cell_type": "code",
   "execution_count": 526,
   "metadata": {},
   "outputs": [
    {
     "name": "stdout",
     "output_type": "stream",
     "text": [
      "Top 20:\n",
      "daft punk & sander kleinenberg, coldplay & kylie minogue, radioheadncon, arctic monekys, lana del rey, lorde & katy perry, muse - absolution, bowie, the beatles & george martin, sandie shaw and the smiths, linkin park & jay-z (live clean), katy perry ft juicy j, pink floyd & floyd, rolling stones, queen & the muppets, foo figthers, arcade fire, mgmt, the black keys, madonna feat. nicki minaj\n"
     ]
    }
   ],
   "source": [
    "persons_IDs = grouped_table.index[persons_pos]\n",
    "\n",
    "persons_list = np.vectorize(persons[['ID', 'name']].set_index('ID').to_dict()['name'].get)(persons_IDs)\n",
    "\n",
    "print('Top 20:')\n",
    "\n",
    "print(*persons_list, sep=', ')"
   ]
  },
  {
   "cell_type": "markdown",
   "metadata": {},
   "source": [
    "Данные результаты похожи на бейзлайновую модель, что говорит о том, что модель имеет смысл."
   ]
  },
  {
   "cell_type": "markdown",
   "metadata": {},
   "source": [
    "Дополнительные данные можно использовать для рахных целей. Из данных об альбомах и песнях можно генерировать больше фич для исполнителя, а их плейлистов - для пользователя. Из сессий, лайков и событий можно сделать три отдельные рекомендательные матрицы и вместе группой их обрабатывать. Также можно динамически пытаться предсказывать следующий трек или артиста, которого захочет послушать пользователь. Данные из песенных названий, плейлистов, совместных треков, тегов и событий можно использовать для создания матриц похожести, которые тоже можно привлекать в качестве фич в модели."
   ]
  }
 ],
 "metadata": {
  "kernelspec": {
   "display_name": "Python 3",
   "language": "python",
   "name": "python3"
  },
  "language_info": {
   "codemirror_mode": {
    "name": "ipython",
    "version": 3
   },
   "file_extension": ".py",
   "mimetype": "text/x-python",
   "name": "python",
   "nbconvert_exporter": "python",
   "pygments_lexer": "ipython3",
   "version": "3.7.1"
  }
 },
 "nbformat": 4,
 "nbformat_minor": 4
}
